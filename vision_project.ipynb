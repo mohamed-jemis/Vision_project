{
  "nbformat": 4,
  "nbformat_minor": 0,
  "metadata": {
    "colab": {
      "provenance": []
    },
    "kernelspec": {
      "name": "python3",
      "display_name": "Python 3"
    },
    "language_info": {
      "name": "python"
    }
  },
  "cells": [
    {
      "cell_type": "code",
      "execution_count": 40,
      "metadata": {
        "id": "4R1pq6bsncSE"
      },
      "outputs": [],
      "source": [
        "import os\n",
        "import pathlib\n",
        "import cv2 \n",
        "import numpy as np\n",
        "import keras\n",
        "import tensorflow as tf\n",
        "from tensorflow import keras\n",
        "from keras import datasets, layers, models\n",
        "import keras.utils as utils\n",
        "from keras.layers import Conv2D, MaxPool2D\n",
        "import matplotlib.pyplot as plt\n",
        "from matplotlib.pyplot import imread\n",
        "from sklearn.utils import shuffle\n"
      ]
    },
    {
      "cell_type": "code",
      "source": [
        "#!unzip data.zip"
      ],
      "metadata": {
        "id": "1PGfYx4cnzHI"
      },
      "execution_count": 41,
      "outputs": []
    },
    {
      "cell_type": "code",
      "source": [
        "# Read the 200 images\n",
        "def read_images(path):\n",
        "    letters = {\"A\", \"B\", \"C\", \"D\", \"E\"}\n",
        "    Images = []\n",
        "    label = []\n",
        "    n=0\n",
        "\n",
        "    for i in letters:\n",
        "        __dir = '/content/data/person{}/{}/'.format(i, path)\n",
        "\n",
        "        images_path = os.listdir(__dir)\n",
        "        for image_path in images_path:\n",
        "            if pathlib.Path(image_path).suffix[1] == 'p':\n",
        "                full_path = os.path.join(__dir, image_path)\n",
        "                image = cv2.imread(full_path)\n",
        "                image =cv2.resize(image,(256,256))\n",
        "                Images.append(image)\n",
        "                label.append(n)\n",
        "        \n",
        "        n = n+1\n",
        "    \n",
        "    return np.array(Images)/255.0,np.array(label)"
      ],
      "metadata": {
        "id": "IFjDGsJonnCI"
      },
      "execution_count": 42,
      "outputs": []
    },
    {
      "cell_type": "code",
      "source": [
        "train_images,train_labels = read_images(\"Train\")\n",
        "test_images,test_labels = read_images(\"Test\")\n",
        "train_images, train_labels = shuffle(train_images, train_labels, random_state=0)"
      ],
      "metadata": {
        "id": "AMTzLQBQnrY4"
      },
      "execution_count": 44,
      "outputs": []
    },
    {
      "cell_type": "code",
      "source": [
        "print (\"X_train shape: \" + str(train_images.shape))\n",
        "print (\"Y_train shape: \" + str(train_labels.shape))\n",
        "print (\"X_test shape: \" + str(test_images.shape))\n",
        "print (\"Y_test shape: \" + str(test_labels.shape))"
      ],
      "metadata": {
        "colab": {
          "base_uri": "https://localhost:8080/"
        },
        "id": "yxYOeRQ4FadB",
        "outputId": "54fcfb0c-d07e-4179-9018-333167ea7d6c"
      },
      "execution_count": 45,
      "outputs": [
        {
          "output_type": "stream",
          "name": "stdout",
          "text": [
            "X_train shape: (200, 256, 256, 3)\n",
            "Y_train shape: (200,)\n",
            "X_test shape: (40, 256, 256, 3)\n",
            "Y_test shape: (40,)\n"
          ]
        }
      ]
    },
    {
      "cell_type": "code",
      "source": [
        "model = models.Sequential()\n",
        "model.add(layers.Conv2D(filters = 8 , kernel_size= (5,5), strides = (1,1), padding='same', activation='relu', input_shape=(256, 256, 3)))\n",
        "model.add(layers.MaxPooling2D(pool_size=(8,8), strides=(8, 8), padding='same'))\n",
        "model.add(layers.Conv2D(filters = 16 , kernel_size= (3,3), strides = (1,1), padding='same', activation='relu'))\n",
        "model.add(layers.MaxPooling2D(pool_size=(4,4), strides=(4, 4), padding='same'))"
      ],
      "metadata": {
        "id": "9NC_oCCnxCml"
      },
      "execution_count": 46,
      "outputs": []
    },
    {
      "cell_type": "code",
      "source": [
        "model.add(layers.Flatten())\n",
        "model.add(layers.Dense(5))\n",
        "model.summary()\n"
      ],
      "metadata": {
        "colab": {
          "base_uri": "https://localhost:8080/"
        },
        "id": "WJzV-e353uD_",
        "outputId": "2a41f950-af79-4bb3-cce4-cda46bdc86b0"
      },
      "execution_count": 31,
      "outputs": [
        {
          "output_type": "stream",
          "name": "stdout",
          "text": [
            "Model: \"sequential_4\"\n",
            "_________________________________________________________________\n",
            " Layer (type)                Output Shape              Param #   \n",
            "=================================================================\n",
            " conv2d_8 (Conv2D)           (None, 256, 256, 8)       608       \n",
            "                                                                 \n",
            " max_pooling2d_8 (MaxPooling  (None, 32, 32, 8)        0         \n",
            " 2D)                                                             \n",
            "                                                                 \n",
            " conv2d_9 (Conv2D)           (None, 32, 32, 16)        1168      \n",
            "                                                                 \n",
            " max_pooling2d_9 (MaxPooling  (None, 8, 8, 16)         0         \n",
            " 2D)                                                             \n",
            "                                                                 \n",
            " flatten_4 (Flatten)         (None, 1024)              0         \n",
            "                                                                 \n",
            " dense_4 (Dense)             (None, 5)                 5125      \n",
            "                                                                 \n",
            "=================================================================\n",
            "Total params: 6,901\n",
            "Trainable params: 6,901\n",
            "Non-trainable params: 0\n",
            "_________________________________________________________________\n"
          ]
        }
      ]
    },
    {
      "cell_type": "code",
      "source": [
        "model.compile(optimizer='adam', \n",
        "             loss=tf.keras.losses.SparseCategoricalCrossentropy(from_logits=True),\n",
        "             metrics=['accuracy'])\n",
        "callback = keras.callbacks.EarlyStopping(monitor='val_loss',\n",
        "                                            patience=7,\n",
        "                                            restore_best_weights=True)\n",
        "history = model.fit(train_images,train_labels, epochs=30,callbacks=callback,validation_split=.2)"
      ],
      "metadata": {
        "colab": {
          "base_uri": "https://localhost:8080/"
        },
        "id": "HYbNeA_A33sn",
        "outputId": "b3ac7d69-72c0-4d12-e4c0-57e8c9261c99"
      },
      "execution_count": 32,
      "outputs": [
        {
          "output_type": "stream",
          "name": "stdout",
          "text": [
            "Epoch 1/30\n",
            "5/5 [==============================] - 7s 1s/step - loss: 1.6800 - accuracy: 0.1750 - val_loss: 1.6136 - val_accuracy: 0.1500\n",
            "Epoch 2/30\n",
            "5/5 [==============================] - 6s 1s/step - loss: 1.5114 - accuracy: 0.3125 - val_loss: 1.4750 - val_accuracy: 0.6000\n",
            "Epoch 3/30\n",
            "5/5 [==============================] - 6s 1s/step - loss: 1.3621 - accuracy: 0.5312 - val_loss: 1.3226 - val_accuracy: 0.5250\n",
            "Epoch 4/30\n",
            "5/5 [==============================] - 6s 1s/step - loss: 1.1946 - accuracy: 0.6313 - val_loss: 1.1317 - val_accuracy: 0.6250\n",
            "Epoch 5/30\n",
            "5/5 [==============================] - 7s 1s/step - loss: 0.9886 - accuracy: 0.8313 - val_loss: 0.9352 - val_accuracy: 0.8250\n",
            "Epoch 6/30\n",
            "5/5 [==============================] - 6s 1s/step - loss: 0.7692 - accuracy: 0.8938 - val_loss: 0.7560 - val_accuracy: 0.8250\n",
            "Epoch 7/30\n",
            "5/5 [==============================] - 6s 1s/step - loss: 0.5747 - accuracy: 0.9250 - val_loss: 0.5615 - val_accuracy: 0.9000\n",
            "Epoch 8/30\n",
            "5/5 [==============================] - 6s 1s/step - loss: 0.4007 - accuracy: 0.9750 - val_loss: 0.4107 - val_accuracy: 0.9500\n",
            "Epoch 9/30\n",
            "5/5 [==============================] - 8s 2s/step - loss: 0.2728 - accuracy: 0.9812 - val_loss: 0.2935 - val_accuracy: 0.9750\n",
            "Epoch 10/30\n",
            "5/5 [==============================] - 6s 1s/step - loss: 0.1894 - accuracy: 0.9750 - val_loss: 0.2021 - val_accuracy: 0.9750\n",
            "Epoch 11/30\n",
            "5/5 [==============================] - 6s 1s/step - loss: 0.1239 - accuracy: 0.9937 - val_loss: 0.1698 - val_accuracy: 1.0000\n",
            "Epoch 12/30\n",
            "5/5 [==============================] - 6s 1s/step - loss: 0.0884 - accuracy: 1.0000 - val_loss: 0.1082 - val_accuracy: 1.0000\n",
            "Epoch 13/30\n",
            "5/5 [==============================] - 6s 1s/step - loss: 0.0626 - accuracy: 0.9937 - val_loss: 0.0818 - val_accuracy: 0.9750\n",
            "Epoch 14/30\n",
            "5/5 [==============================] - 6s 1s/step - loss: 0.0447 - accuracy: 1.0000 - val_loss: 0.0679 - val_accuracy: 1.0000\n",
            "Epoch 15/30\n",
            "5/5 [==============================] - 6s 1s/step - loss: 0.0350 - accuracy: 1.0000 - val_loss: 0.0601 - val_accuracy: 1.0000\n",
            "Epoch 16/30\n",
            "5/5 [==============================] - 6s 1s/step - loss: 0.0288 - accuracy: 1.0000 - val_loss: 0.0491 - val_accuracy: 1.0000\n",
            "Epoch 17/30\n",
            "5/5 [==============================] - 6s 1s/step - loss: 0.0224 - accuracy: 1.0000 - val_loss: 0.0434 - val_accuracy: 1.0000\n",
            "Epoch 18/30\n",
            "5/5 [==============================] - 6s 1s/step - loss: 0.0191 - accuracy: 1.0000 - val_loss: 0.0396 - val_accuracy: 1.0000\n",
            "Epoch 19/30\n",
            "5/5 [==============================] - 6s 1s/step - loss: 0.0155 - accuracy: 1.0000 - val_loss: 0.0378 - val_accuracy: 1.0000\n",
            "Epoch 20/30\n",
            "5/5 [==============================] - 6s 1s/step - loss: 0.0132 - accuracy: 1.0000 - val_loss: 0.0354 - val_accuracy: 1.0000\n",
            "Epoch 21/30\n",
            "5/5 [==============================] - 6s 1s/step - loss: 0.0116 - accuracy: 1.0000 - val_loss: 0.0337 - val_accuracy: 1.0000\n",
            "Epoch 22/30\n",
            "5/5 [==============================] - 6s 1s/step - loss: 0.0104 - accuracy: 1.0000 - val_loss: 0.0324 - val_accuracy: 1.0000\n",
            "Epoch 23/30\n",
            "5/5 [==============================] - 6s 1s/step - loss: 0.0091 - accuracy: 1.0000 - val_loss: 0.0307 - val_accuracy: 1.0000\n",
            "Epoch 24/30\n",
            "5/5 [==============================] - 6s 1s/step - loss: 0.0083 - accuracy: 1.0000 - val_loss: 0.0295 - val_accuracy: 1.0000\n",
            "Epoch 25/30\n",
            "5/5 [==============================] - 6s 1s/step - loss: 0.0076 - accuracy: 1.0000 - val_loss: 0.0288 - val_accuracy: 1.0000\n",
            "Epoch 26/30\n",
            "5/5 [==============================] - 6s 1s/step - loss: 0.0068 - accuracy: 1.0000 - val_loss: 0.0278 - val_accuracy: 1.0000\n",
            "Epoch 27/30\n",
            "5/5 [==============================] - 6s 1s/step - loss: 0.0062 - accuracy: 1.0000 - val_loss: 0.0269 - val_accuracy: 1.0000\n",
            "Epoch 28/30\n",
            "5/5 [==============================] - 6s 1s/step - loss: 0.0057 - accuracy: 1.0000 - val_loss: 0.0264 - val_accuracy: 1.0000\n",
            "Epoch 29/30\n",
            "5/5 [==============================] - 6s 1s/step - loss: 0.0053 - accuracy: 1.0000 - val_loss: 0.0261 - val_accuracy: 1.0000\n",
            "Epoch 30/30\n",
            "5/5 [==============================] - 9s 2s/step - loss: 0.0049 - accuracy: 1.0000 - val_loss: 0.0254 - val_accuracy: 1.0000\n"
          ]
        }
      ]
    },
    {
      "cell_type": "code",
      "source": [
        "model.evaluate(test_images, test_labels)"
      ],
      "metadata": {
        "colab": {
          "base_uri": "https://localhost:8080/"
        },
        "id": "8_3mABfj4r6P",
        "outputId": "3e2796d8-22de-4bad-963a-aaf1c9d5c6ef"
      },
      "execution_count": 33,
      "outputs": [
        {
          "output_type": "stream",
          "name": "stdout",
          "text": [
            "2/2 [==============================] - 1s 122ms/step - loss: 0.0383 - accuracy: 1.0000\n"
          ]
        },
        {
          "output_type": "execute_result",
          "data": {
            "text/plain": [
              "[0.0382622666656971, 1.0]"
            ]
          },
          "metadata": {},
          "execution_count": 33
        }
      ]
    },
    {
      "cell_type": "code",
      "source": [
        "model.predict(test_images).argmax(axis = 1)"
      ],
      "metadata": {
        "colab": {
          "base_uri": "https://localhost:8080/"
        },
        "id": "3paJyKJEOklJ",
        "outputId": "276b9895-a9b0-4f1d-8d50-9d9083e38f44"
      },
      "execution_count": 27,
      "outputs": [
        {
          "output_type": "stream",
          "name": "stdout",
          "text": [
            "2/2 [==============================] - 0s 81ms/step\n"
          ]
        },
        {
          "output_type": "execute_result",
          "data": {
            "text/plain": [
              "array([0, 0, 0, 0, 0, 0, 0, 0, 1, 1, 1, 1, 1, 1, 1, 1, 2, 2, 2, 2, 2, 2,\n",
              "       2, 2, 3, 3, 3, 3, 3, 3, 3, 3, 4, 4, 4, 4, 4, 4, 4, 4])"
            ]
          },
          "metadata": {},
          "execution_count": 27
        }
      ]
    },
    {
      "cell_type": "code",
      "source": [
        "!mkdir -p saved_model\n",
        "model.save('saved_model/my_model') "
      ],
      "metadata": {
        "id": "sSy21gLBS4Wv"
      },
      "execution_count": null,
      "outputs": []
    },
    {
      "cell_type": "code",
      "source": [
        "model.save(\"model1.hdf5\")"
      ],
      "metadata": {
        "id": "_dHxsDgARQ4n"
      },
      "execution_count": 29,
      "outputs": []
    }
  ]
}